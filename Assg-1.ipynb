{
 "cells": [
  {
   "cell_type": "markdown",
   "id": "51d53d69-44b5-4a30-88e5-197d7b241018",
   "metadata": {},
   "source": [
    "Q1. Create one variable containing following type of data:"
   ]
  },
  {
   "cell_type": "code",
   "execution_count": 2,
   "id": "29d82399-de70-493e-ad8c-4cd1d2947524",
   "metadata": {},
   "outputs": [
    {
     "data": {
      "text/plain": [
       "['hello', [1, 2, 3], 1.2, ('b', 'c')]"
      ]
     },
     "execution_count": 2,
     "metadata": {},
     "output_type": "execute_result"
    }
   ],
   "source": [
    "a=[\"hello\",[1,2,3],1.20,('b','c')]"
   ]
  },
  {
   "cell_type": "markdown",
   "id": "298b5004-3379-4085-b2aa-4ce5be95054d",
   "metadata": {},
   "source": [
    "Q2. What will be the data type of the above given variable."
   ]
  },
  {
   "cell_type": "code",
   "execution_count": 4,
   "id": "b1c5ccf2-7590-44e9-a569-0ed77abf195d",
   "metadata": {},
   "outputs": [
    {
     "ename": "SyntaxError",
     "evalue": "invalid character '‘' (U+2018) (3647581571.py, line 1)",
     "output_type": "error",
     "traceback": [
      "\u001b[0;36m  Cell \u001b[0;32mIn[4], line 1\u001b[0;36m\u001b[0m\n\u001b[0;31m    var1 = ‘ ‘\u001b[0m\n\u001b[0m           ^\u001b[0m\n\u001b[0;31mSyntaxError\u001b[0m\u001b[0;31m:\u001b[0m invalid character '‘' (U+2018)\n"
     ]
    }
   ],
   "source": [
    "var1 = ‘ ‘\n",
    "type(var1)"
   ]
  },
  {
   "cell_type": "code",
   "execution_count": 5,
   "id": "2c6e9215-68de-460f-8a0f-57cdc6c3687b",
   "metadata": {},
   "outputs": [
    {
     "ename": "SyntaxError",
     "evalue": "invalid character '‘' (U+2018) (100285119.py, line 1)",
     "output_type": "error",
     "traceback": [
      "\u001b[0;36m  Cell \u001b[0;32mIn[5], line 1\u001b[0;36m\u001b[0m\n\u001b[0;31m    var2 = ‘[ DS , ML , Python]’\u001b[0m\n\u001b[0m           ^\u001b[0m\n\u001b[0;31mSyntaxError\u001b[0m\u001b[0;31m:\u001b[0m invalid character '‘' (U+2018)\n"
     ]
    }
   ],
   "source": [
    " var2 = ‘[ DS , ML , Python]’\n",
    "type(var2)"
   ]
  },
  {
   "cell_type": "code",
   "execution_count": 6,
   "id": "8094208c-1621-4f2c-b993-506c011c595d",
   "metadata": {},
   "outputs": [
    {
     "ename": "SyntaxError",
     "evalue": "invalid character '‘' (U+2018) (763556664.py, line 1)",
     "output_type": "error",
     "traceback": [
      "\u001b[0;36m  Cell \u001b[0;32mIn[6], line 1\u001b[0;36m\u001b[0m\n\u001b[0;31m    var3 = [ ‘DS’ , ’ML’ , ‘Python’ ]\u001b[0m\n\u001b[0m             ^\u001b[0m\n\u001b[0;31mSyntaxError\u001b[0m\u001b[0;31m:\u001b[0m invalid character '‘' (U+2018)\n"
     ]
    }
   ],
   "source": [
    "var3 = [ ‘DS’ , ’ML’ , ‘Python’ ]\n",
    "type(var3)"
   ]
  },
  {
   "cell_type": "code",
   "execution_count": 7,
   "id": "ebba79f8-8f23-4952-8d4b-f26e7413a8bf",
   "metadata": {},
   "outputs": [
    {
     "data": {
      "text/plain": [
       "int"
      ]
     },
     "execution_count": 7,
     "metadata": {},
     "output_type": "execute_result"
    }
   ],
   "source": [
    "var4 = 1\n",
    "type(var4)"
   ]
  },
  {
   "cell_type": "markdown",
   "id": "03c79853-72d2-4914-a40a-88b12c348e95",
   "metadata": {},
   "source": [
    "Q3. Explain the use of the following operators using an example:"
   ]
  },
  {
   "cell_type": "code",
   "execution_count": 9,
   "id": "bed92c83-0e0d-4e23-84dd-9b7b04010c30",
   "metadata": {},
   "outputs": [
    {
     "data": {
      "text/plain": [
       "2.0"
      ]
     },
     "execution_count": 9,
     "metadata": {},
     "output_type": "execute_result"
    }
   ],
   "source": [
    "a=10/5\n",
    "a"
   ]
  },
  {
   "cell_type": "code",
   "execution_count": 10,
   "id": "b287850c-3bc4-428a-afc7-345355078295",
   "metadata": {},
   "outputs": [
    {
     "data": {
      "text/plain": [
       "0"
      ]
     },
     "execution_count": 10,
     "metadata": {},
     "output_type": "execute_result"
    }
   ],
   "source": [
    "b=10%5\n",
    "b"
   ]
  },
  {
   "cell_type": "code",
   "execution_count": 11,
   "id": "158c4eaa-473c-4bf6-ae6a-d1462fc7ac1a",
   "metadata": {},
   "outputs": [
    {
     "data": {
      "text/plain": [
       "2"
      ]
     },
     "execution_count": 11,
     "metadata": {},
     "output_type": "execute_result"
    }
   ],
   "source": [
    "c=10//5\n",
    "c"
   ]
  },
  {
   "cell_type": "code",
   "execution_count": 12,
   "id": "59a49293-4ace-45d3-a011-e80577f81deb",
   "metadata": {},
   "outputs": [
    {
     "data": {
      "text/plain": [
       "100000"
      ]
     },
     "execution_count": 12,
     "metadata": {},
     "output_type": "execute_result"
    }
   ],
   "source": [
    "d=10**5\n",
    "d"
   ]
  },
  {
   "cell_type": "code",
   "execution_count": 17,
   "id": "985e0723-20e2-4b86-82bd-def273057cfa",
   "metadata": {},
   "outputs": [],
   "source": [
    "l=[1,2,3,4,\"pwskills\",\"niki\",2.0,('a','b'),2+3j,False]"
   ]
  },
  {
   "cell_type": "code",
   "execution_count": 18,
   "id": "34afadf8-ecee-45e4-8d5b-919da6a9516a",
   "metadata": {},
   "outputs": [
    {
     "name": "stdout",
     "output_type": "stream",
     "text": [
      "1\n",
      "<class 'int'>\n",
      "2\n",
      "<class 'int'>\n",
      "3\n",
      "<class 'int'>\n",
      "4\n",
      "<class 'int'>\n",
      "pwskills\n",
      "<class 'str'>\n",
      "niki\n",
      "<class 'str'>\n",
      "2.0\n",
      "<class 'float'>\n",
      "('a', 'b')\n",
      "<class 'tuple'>\n",
      "(2+3j)\n",
      "<class 'complex'>\n",
      "False\n",
      "<class 'bool'>\n"
     ]
    }
   ],
   "source": [
    "for i in l:\n",
    "    print(i)\n",
    "    print(type(i))\n",
    "    if i == False:\n",
    "        break"
   ]
  },
  {
   "cell_type": "markdown",
   "id": "82431275-86bf-4c2a-aee2-6e8d3caec4be",
   "metadata": {},
   "source": [
    "Q5. Using a while loop, verify if the number A is purely divisible by number B and if so then how many\n",
    "times it can be divisible."
   ]
  },
  {
   "cell_type": "code",
   "execution_count": 58,
   "id": "1ccbd43b-57e7-4c00-b43e-39ec99b2c606",
   "metadata": {},
   "outputs": [
    {
     "name": "stdout",
     "output_type": "stream",
     "text": [
      "A is divisible by B and it can be divided 1 times.\n"
     ]
    }
   ],
   "source": [
    "a = 10\n",
    "b = 2\n",
    "count = 0\n",
    "\n",
    "while a % b == 0:\n",
    "    count += 1\n",
    "    a /= b\n",
    "\n",
    "if count > 0:\n",
    "    print(\"A is divisible by B and it can be divided\", count, \"times.\")\n",
    "else:\n",
    "    print(\"A is not divisible by B.\")"
   ]
  },
  {
   "cell_type": "markdown",
   "id": "f119d480-5041-408f-a76b-4b8d2628b66c",
   "metadata": {},
   "source": [
    "Q6. Create a list containing 25 int type data. Using for loop and if-else condition print if the element is\n",
    "divisible by 3 or not."
   ]
  },
  {
   "cell_type": "code",
   "execution_count": 24,
   "id": "0c28087f-4708-4781-a7bb-c51356ae9288",
   "metadata": {},
   "outputs": [],
   "source": [
    "l=[1,2,3,4,5,6,7,8,9,10,11,12,13,14,15,16,17,18,19,20,21,22,23,24,25]"
   ]
  },
  {
   "cell_type": "code",
   "execution_count": 32,
   "id": "2ea5d876-859d-471f-b169-576a7cd23c94",
   "metadata": {},
   "outputs": [
    {
     "name": "stdout",
     "output_type": "stream",
     "text": [
      "not 1\n",
      "not 2\n",
      "Divisible 3\n",
      "not 4\n",
      "not 5\n",
      "Divisible 6\n",
      "not 7\n",
      "not 8\n",
      "Divisible 9\n",
      "not 10\n",
      "not 11\n",
      "Divisible 12\n",
      "not 13\n",
      "not 14\n",
      "Divisible 15\n",
      "not 16\n",
      "not 17\n",
      "Divisible 18\n",
      "not 19\n",
      "not 20\n",
      "Divisible 21\n",
      "not 22\n",
      "not 23\n",
      "Divisible 24\n",
      "not 25\n"
     ]
    }
   ],
   "source": [
    "total=0\n",
    "for i in l:\n",
    "    if i % 3 == 0:\n",
    "        print(\"Divisible\",i)\n",
    "    else:\n",
    "        print(\"Not Divisible\",i)\n",
    "        \n"
   ]
  },
  {
   "cell_type": "markdown",
   "id": "4579ce4f-5d24-40be-92e3-01c6050321a8",
   "metadata": {},
   "source": [
    "Q7. What do you understand about mutable and immutable data types? Give examples for both showing\n",
    "this property."
   ]
  },
  {
   "cell_type": "code",
   "execution_count": 48,
   "id": "76872486-e641-4962-8aeb-6abaea56607c",
   "metadata": {},
   "outputs": [],
   "source": [
    "n=[1,2,3,4,5,\"niki\",\"ani\",3+6j,2.03]"
   ]
  },
  {
   "cell_type": "code",
   "execution_count": 49,
   "id": "88bdf75e-9226-431d-bf54-78de24d04f94",
   "metadata": {},
   "outputs": [
    {
     "data": {
      "text/plain": [
       "list"
      ]
     },
     "execution_count": 49,
     "metadata": {},
     "output_type": "execute_result"
    }
   ],
   "source": [
    "type(n)"
   ]
  },
  {
   "cell_type": "code",
   "execution_count": 50,
   "id": "7ba13a3c-f810-45a3-9125-ad5320dacb98",
   "metadata": {},
   "outputs": [
    {
     "data": {
      "text/plain": [
       "'ani'"
      ]
     },
     "execution_count": 50,
     "metadata": {},
     "output_type": "execute_result"
    }
   ],
   "source": [
    "n[6]"
   ]
  },
  {
   "cell_type": "code",
   "execution_count": 51,
   "id": "46df93fc-8a02-4879-ab17-b60deb99bb40",
   "metadata": {},
   "outputs": [
    {
     "data": {
      "text/plain": [
       "[1, 2, 3, 4, 5, 'niki', 70, (3+6j), 2.03]"
      ]
     },
     "execution_count": 51,
     "metadata": {},
     "output_type": "execute_result"
    }
   ],
   "source": [
    "n[6]=70\n",
    "n"
   ]
  },
  {
   "cell_type": "code",
   "execution_count": 55,
   "id": "31048614-fbfa-4ce5-8de2-50bcafdad992",
   "metadata": {},
   "outputs": [
    {
     "data": {
      "text/plain": [
       "[1, 2, 'e', 4, 5, 'niki', 70, (3+6j), 2.03]"
      ]
     },
     "execution_count": 55,
     "metadata": {},
     "output_type": "execute_result"
    }
   ],
   "source": [
    "n[2]='e'\n",
    "n"
   ]
  },
  {
   "cell_type": "code",
   "execution_count": null,
   "id": "df336f80-5900-41b8-b81c-4880f13048fd",
   "metadata": {},
   "outputs": [],
   "source": []
  }
 ],
 "metadata": {
  "kernelspec": {
   "display_name": "Python 3 (ipykernel)",
   "language": "python",
   "name": "python3"
  },
  "language_info": {
   "codemirror_mode": {
    "name": "ipython",
    "version": 3
   },
   "file_extension": ".py",
   "mimetype": "text/x-python",
   "name": "python",
   "nbconvert_exporter": "python",
   "pygments_lexer": "ipython3",
   "version": "3.10.8"
  }
 },
 "nbformat": 4,
 "nbformat_minor": 5
}
